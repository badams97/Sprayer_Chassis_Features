{
 "cells": [
  {
   "cell_type": "markdown",
   "metadata": {},
   "source": [
    "## Introduction\n",
    "\n",
    "The goal of this pyhton code is to determine which chassis suspension features have the most influence on boom height stability of self-propelled sprayers.  These features are inherent of vehicle dynamics characteristics related to the chassis of the machine, such as roll rate, vertical acceleration, etc.  This analysis will be conducted with a supervised machine learning algorithm called \"Random Forest\" in order to extract the most important chassis features."
   ]
  },
  {
   "cell_type": "code",
   "execution_count": 267,
   "metadata": {},
   "outputs": [],
   "source": [
    "#imports most of the necessary python packages for this data analysis\n",
    "import numpy as np\n",
    "import sklearn as sk\n",
    "import sklearn.datasets as skd\n",
    "import sklearn.ensemble as ske\n",
    "import matplotlib.pyplot as plt\n",
    "import pandas as pd\n",
    "%matplotlib inline"
   ]
  },
  {
   "cell_type": "markdown",
   "metadata": {},
   "source": [
    "## Data Wrangling\n",
    "\n",
    "The data needs to be organized into a panda's dataframe for visual clarity and easy utilization.  Each index represents an entire field pass of the same machine configuration.  The following key performance indicators are based on standard deviations and are included in this initial overview dataframe:\n",
    "- Chassis roll\n",
    "- Chassis roll rate\n",
    "- Chassis pitch\n",
    "- Chassis pitch rate\n",
    "- Chassis vertical acceleration\n",
    "- Chassis longitudinal acceleration\n",
    "- Chassis lateral acceleration\n",
    "\n",
    "\n",
    "- L2 ultrasonic elevation\n",
    "- R2 ultrasonic elevation\n",
    "- Average L2 & R2 ultrasonic elevation"
   ]
  },
  {
   "cell_type": "code",
   "execution_count": 454,
   "metadata": {},
   "outputs": [
    {
     "data": {
      "text/html": [
       "<div>\n",
       "<style scoped>\n",
       "    .dataframe tbody tr th:only-of-type {\n",
       "        vertical-align: middle;\n",
       "    }\n",
       "\n",
       "    .dataframe tbody tr th {\n",
       "        vertical-align: top;\n",
       "    }\n",
       "\n",
       "    .dataframe thead th {\n",
       "        text-align: right;\n",
       "    }\n",
       "</style>\n",
       "<table border=\"1\" class=\"dataframe\">\n",
       "  <thead>\n",
       "    <tr style=\"text-align: right;\">\n",
       "      <th></th>\n",
       "      <th>Chassis_Roll_std</th>\n",
       "      <th>Chassis_Roll_Rate_std</th>\n",
       "      <th>Chassis_Pitch_std</th>\n",
       "      <th>Chassis_Pitch_Rate_std</th>\n",
       "      <th>Chassis_Vert_Accel_std</th>\n",
       "      <th>Chassis_Long_Accel_std</th>\n",
       "      <th>Chassis_Lat_Accel_std</th>\n",
       "      <th>Boom_L2_std</th>\n",
       "      <th>Boom_R2_std</th>\n",
       "      <th>Boom_L2_R2_Average_std</th>\n",
       "    </tr>\n",
       "  </thead>\n",
       "  <tbody>\n",
       "    <tr>\n",
       "      <th>0</th>\n",
       "      <td>1.165670</td>\n",
       "      <td>1.452349</td>\n",
       "      <td>0.849533</td>\n",
       "      <td>1.400776</td>\n",
       "      <td>0.032987</td>\n",
       "      <td>0.171610</td>\n",
       "      <td>0.199896</td>\n",
       "      <td>168.179845</td>\n",
       "      <td>165.326849</td>\n",
       "      <td>166.753347</td>\n",
       "    </tr>\n",
       "    <tr>\n",
       "      <th>1</th>\n",
       "      <td>1.243374</td>\n",
       "      <td>1.387803</td>\n",
       "      <td>1.352138</td>\n",
       "      <td>1.459247</td>\n",
       "      <td>0.048507</td>\n",
       "      <td>0.295878</td>\n",
       "      <td>0.212548</td>\n",
       "      <td>173.627026</td>\n",
       "      <td>215.386613</td>\n",
       "      <td>194.506819</td>\n",
       "    </tr>\n",
       "    <tr>\n",
       "      <th>2</th>\n",
       "      <td>1.992817</td>\n",
       "      <td>1.313750</td>\n",
       "      <td>0.954994</td>\n",
       "      <td>1.565375</td>\n",
       "      <td>0.030847</td>\n",
       "      <td>0.174432</td>\n",
       "      <td>0.355446</td>\n",
       "      <td>188.293229</td>\n",
       "      <td>234.054875</td>\n",
       "      <td>211.174052</td>\n",
       "    </tr>\n",
       "    <tr>\n",
       "      <th>3</th>\n",
       "      <td>2.238148</td>\n",
       "      <td>1.320530</td>\n",
       "      <td>0.962160</td>\n",
       "      <td>1.395180</td>\n",
       "      <td>0.032016</td>\n",
       "      <td>0.213074</td>\n",
       "      <td>0.368491</td>\n",
       "      <td>176.257845</td>\n",
       "      <td>208.258146</td>\n",
       "      <td>192.257995</td>\n",
       "    </tr>\n",
       "    <tr>\n",
       "      <th>4</th>\n",
       "      <td>1.028731</td>\n",
       "      <td>1.392006</td>\n",
       "      <td>1.478242</td>\n",
       "      <td>2.167844</td>\n",
       "      <td>0.056380</td>\n",
       "      <td>0.281864</td>\n",
       "      <td>0.174176</td>\n",
       "      <td>168.987986</td>\n",
       "      <td>216.126756</td>\n",
       "      <td>192.557371</td>\n",
       "    </tr>\n",
       "    <tr>\n",
       "      <th>5</th>\n",
       "      <td>1.107264</td>\n",
       "      <td>1.306715</td>\n",
       "      <td>1.121079</td>\n",
       "      <td>1.931899</td>\n",
       "      <td>0.053976</td>\n",
       "      <td>0.255630</td>\n",
       "      <td>0.190764</td>\n",
       "      <td>217.550777</td>\n",
       "      <td>195.837967</td>\n",
       "      <td>206.694372</td>\n",
       "    </tr>\n",
       "    <tr>\n",
       "      <th>6</th>\n",
       "      <td>0.924958</td>\n",
       "      <td>0.957994</td>\n",
       "      <td>1.177393</td>\n",
       "      <td>0.944503</td>\n",
       "      <td>0.040743</td>\n",
       "      <td>0.234978</td>\n",
       "      <td>0.152436</td>\n",
       "      <td>200.433252</td>\n",
       "      <td>196.479785</td>\n",
       "      <td>198.456519</td>\n",
       "    </tr>\n",
       "    <tr>\n",
       "      <th>7</th>\n",
       "      <td>0.779387</td>\n",
       "      <td>1.258600</td>\n",
       "      <td>1.329925</td>\n",
       "      <td>1.330466</td>\n",
       "      <td>0.039476</td>\n",
       "      <td>0.289750</td>\n",
       "      <td>0.143570</td>\n",
       "      <td>190.650008</td>\n",
       "      <td>210.137701</td>\n",
       "      <td>200.393854</td>\n",
       "    </tr>\n",
       "    <tr>\n",
       "      <th>8</th>\n",
       "      <td>1.551420</td>\n",
       "      <td>1.232981</td>\n",
       "      <td>1.191549</td>\n",
       "      <td>1.290915</td>\n",
       "      <td>0.053474</td>\n",
       "      <td>0.216393</td>\n",
       "      <td>0.376503</td>\n",
       "      <td>293.422035</td>\n",
       "      <td>288.378679</td>\n",
       "      <td>290.900357</td>\n",
       "    </tr>\n",
       "    <tr>\n",
       "      <th>9</th>\n",
       "      <td>1.874123</td>\n",
       "      <td>1.306732</td>\n",
       "      <td>1.416022</td>\n",
       "      <td>1.272506</td>\n",
       "      <td>0.046614</td>\n",
       "      <td>0.383334</td>\n",
       "      <td>0.326017</td>\n",
       "      <td>284.657096</td>\n",
       "      <td>278.674454</td>\n",
       "      <td>281.665775</td>\n",
       "    </tr>\n",
       "  </tbody>\n",
       "</table>\n",
       "</div>"
      ],
      "text/plain": [
       "   Chassis_Roll_std  Chassis_Roll_Rate_std  Chassis_Pitch_std  \\\n",
       "0          1.165670               1.452349           0.849533   \n",
       "1          1.243374               1.387803           1.352138   \n",
       "2          1.992817               1.313750           0.954994   \n",
       "3          2.238148               1.320530           0.962160   \n",
       "4          1.028731               1.392006           1.478242   \n",
       "5          1.107264               1.306715           1.121079   \n",
       "6          0.924958               0.957994           1.177393   \n",
       "7          0.779387               1.258600           1.329925   \n",
       "8          1.551420               1.232981           1.191549   \n",
       "9          1.874123               1.306732           1.416022   \n",
       "\n",
       "   Chassis_Pitch_Rate_std  Chassis_Vert_Accel_std  Chassis_Long_Accel_std  \\\n",
       "0                1.400776                0.032987                0.171610   \n",
       "1                1.459247                0.048507                0.295878   \n",
       "2                1.565375                0.030847                0.174432   \n",
       "3                1.395180                0.032016                0.213074   \n",
       "4                2.167844                0.056380                0.281864   \n",
       "5                1.931899                0.053976                0.255630   \n",
       "6                0.944503                0.040743                0.234978   \n",
       "7                1.330466                0.039476                0.289750   \n",
       "8                1.290915                0.053474                0.216393   \n",
       "9                1.272506                0.046614                0.383334   \n",
       "\n",
       "   Chassis_Lat_Accel_std  Boom_L2_std  Boom_R2_std  Boom_L2_R2_Average_std  \n",
       "0               0.199896   168.179845   165.326849              166.753347  \n",
       "1               0.212548   173.627026   215.386613              194.506819  \n",
       "2               0.355446   188.293229   234.054875              211.174052  \n",
       "3               0.368491   176.257845   208.258146              192.257995  \n",
       "4               0.174176   168.987986   216.126756              192.557371  \n",
       "5               0.190764   217.550777   195.837967              206.694372  \n",
       "6               0.152436   200.433252   196.479785              198.456519  \n",
       "7               0.143570   190.650008   210.137701              200.393854  \n",
       "8               0.376503   293.422035   288.378679              290.900357  \n",
       "9               0.326017   284.657096   278.674454              281.665775  "
      ]
     },
     "execution_count": 454,
     "metadata": {},
     "output_type": "execute_result"
    }
   ],
   "source": [
    "#reads the data into a pandas dataframe and displays the first 10 rows\n",
    "chassis_data_df = pd.read_csv('Chassis_Features_Final_Overview.csv')\n",
    "chassis_data_df.head(10)"
   ]
  },
  {
   "cell_type": "markdown",
   "metadata": {},
   "source": [
    "## Initial Data Analysis\n",
    "\n",
    "This section of code serves as an initial investigation to questions like: what does the data look like? are there any null values present in the dataframe? what is the spread of each data signal?  what is the correlation behind the various features?"
   ]
  },
  {
   "cell_type": "code",
   "execution_count": 455,
   "metadata": {},
   "outputs": [
    {
     "data": {
      "text/plain": [
       "(144, 10)"
      ]
     },
     "execution_count": 455,
     "metadata": {},
     "output_type": "execute_result"
    }
   ],
   "source": [
    "chassis_data_df.shape"
   ]
  },
  {
   "cell_type": "code",
   "execution_count": 456,
   "metadata": {},
   "outputs": [
    {
     "data": {
      "text/plain": [
       "'The overall dataframe shape implies that 144 field passes are included in this analysis.'"
      ]
     },
     "execution_count": 456,
     "metadata": {},
     "output_type": "execute_result"
    }
   ],
   "source": [
    "rows = chassis_data_df.shape[0]\n",
    "\n",
    "\"The overall dataframe shape implies that %i field passes are included in this analysis.\" % rows"
   ]
  },
  {
   "cell_type": "code",
   "execution_count": 457,
   "metadata": {},
   "outputs": [
    {
     "data": {
      "text/plain": [
       "Chassis_Roll_std          0\n",
       "Chassis_Roll_Rate_std     0\n",
       "Chassis_Pitch_std         0\n",
       "Chassis_Pitch_Rate_std    0\n",
       "Chassis_Vert_Accel_std    0\n",
       "Chassis_Long_Accel_std    0\n",
       "Chassis_Lat_Accel_std     0\n",
       "Boom_L2_std               0\n",
       "Boom_R2_std               0\n",
       "Boom_L2_R2_Average_std    0\n",
       "dtype: int64"
      ]
     },
     "execution_count": 457,
     "metadata": {},
     "output_type": "execute_result"
    }
   ],
   "source": [
    "#validating that no null values are present in the data\n",
    "pd.isnull(chassis_data_df).sum()"
   ]
  },
  {
   "cell_type": "code",
   "execution_count": 458,
   "metadata": {},
   "outputs": [
    {
     "data": {
      "text/html": [
       "<div>\n",
       "<style scoped>\n",
       "    .dataframe tbody tr th:only-of-type {\n",
       "        vertical-align: middle;\n",
       "    }\n",
       "\n",
       "    .dataframe tbody tr th {\n",
       "        vertical-align: top;\n",
       "    }\n",
       "\n",
       "    .dataframe thead th {\n",
       "        text-align: right;\n",
       "    }\n",
       "</style>\n",
       "<table border=\"1\" class=\"dataframe\">\n",
       "  <thead>\n",
       "    <tr style=\"text-align: right;\">\n",
       "      <th></th>\n",
       "      <th>Chassis_Roll_std</th>\n",
       "      <th>Chassis_Roll_Rate_std</th>\n",
       "      <th>Chassis_Pitch_std</th>\n",
       "      <th>Chassis_Pitch_Rate_std</th>\n",
       "      <th>Chassis_Vert_Accel_std</th>\n",
       "      <th>Chassis_Long_Accel_std</th>\n",
       "      <th>Chassis_Lat_Accel_std</th>\n",
       "      <th>Boom_L2_std</th>\n",
       "      <th>Boom_R2_std</th>\n",
       "      <th>Boom_L2_R2_Average_std</th>\n",
       "    </tr>\n",
       "  </thead>\n",
       "  <tbody>\n",
       "    <tr>\n",
       "      <th>count</th>\n",
       "      <td>144.000000</td>\n",
       "      <td>144.000000</td>\n",
       "      <td>144.000000</td>\n",
       "      <td>144.000000</td>\n",
       "      <td>144.000000</td>\n",
       "      <td>144.000000</td>\n",
       "      <td>144.000000</td>\n",
       "      <td>144.000000</td>\n",
       "      <td>144.000000</td>\n",
       "      <td>144.000000</td>\n",
       "    </tr>\n",
       "    <tr>\n",
       "      <th>mean</th>\n",
       "      <td>1.348764</td>\n",
       "      <td>1.413254</td>\n",
       "      <td>1.063757</td>\n",
       "      <td>1.557071</td>\n",
       "      <td>0.046133</td>\n",
       "      <td>0.274451</td>\n",
       "      <td>0.244311</td>\n",
       "      <td>249.793526</td>\n",
       "      <td>249.997490</td>\n",
       "      <td>249.895508</td>\n",
       "    </tr>\n",
       "    <tr>\n",
       "      <th>std</th>\n",
       "      <td>0.549302</td>\n",
       "      <td>0.204243</td>\n",
       "      <td>0.362453</td>\n",
       "      <td>0.420311</td>\n",
       "      <td>0.015465</td>\n",
       "      <td>0.072068</td>\n",
       "      <td>0.095124</td>\n",
       "      <td>66.795436</td>\n",
       "      <td>62.892005</td>\n",
       "      <td>58.991576</td>\n",
       "    </tr>\n",
       "    <tr>\n",
       "      <th>min</th>\n",
       "      <td>0.530017</td>\n",
       "      <td>0.891601</td>\n",
       "      <td>0.306147</td>\n",
       "      <td>0.747567</td>\n",
       "      <td>0.014109</td>\n",
       "      <td>0.156729</td>\n",
       "      <td>0.098730</td>\n",
       "      <td>115.204922</td>\n",
       "      <td>129.157377</td>\n",
       "      <td>125.183747</td>\n",
       "    </tr>\n",
       "    <tr>\n",
       "      <th>25%</th>\n",
       "      <td>0.928424</td>\n",
       "      <td>1.281776</td>\n",
       "      <td>0.889698</td>\n",
       "      <td>1.282784</td>\n",
       "      <td>0.033647</td>\n",
       "      <td>0.216955</td>\n",
       "      <td>0.170533</td>\n",
       "      <td>204.233800</td>\n",
       "      <td>207.668928</td>\n",
       "      <td>204.418962</td>\n",
       "    </tr>\n",
       "    <tr>\n",
       "      <th>50%</th>\n",
       "      <td>1.198158</td>\n",
       "      <td>1.389786</td>\n",
       "      <td>1.085629</td>\n",
       "      <td>1.527855</td>\n",
       "      <td>0.045681</td>\n",
       "      <td>0.267522</td>\n",
       "      <td>0.215871</td>\n",
       "      <td>235.837503</td>\n",
       "      <td>237.382426</td>\n",
       "      <td>238.169146</td>\n",
       "    </tr>\n",
       "    <tr>\n",
       "      <th>75%</th>\n",
       "      <td>1.781286</td>\n",
       "      <td>1.549875</td>\n",
       "      <td>1.346658</td>\n",
       "      <td>1.872441</td>\n",
       "      <td>0.056429</td>\n",
       "      <td>0.328226</td>\n",
       "      <td>0.325822</td>\n",
       "      <td>292.219808</td>\n",
       "      <td>288.385165</td>\n",
       "      <td>290.528696</td>\n",
       "    </tr>\n",
       "    <tr>\n",
       "      <th>max</th>\n",
       "      <td>2.575232</td>\n",
       "      <td>2.030233</td>\n",
       "      <td>1.822395</td>\n",
       "      <td>2.715697</td>\n",
       "      <td>0.086334</td>\n",
       "      <td>0.436692</td>\n",
       "      <td>0.461288</td>\n",
       "      <td>496.777096</td>\n",
       "      <td>456.764470</td>\n",
       "      <td>407.871100</td>\n",
       "    </tr>\n",
       "  </tbody>\n",
       "</table>\n",
       "</div>"
      ],
      "text/plain": [
       "       Chassis_Roll_std  Chassis_Roll_Rate_std  Chassis_Pitch_std  \\\n",
       "count        144.000000             144.000000         144.000000   \n",
       "mean           1.348764               1.413254           1.063757   \n",
       "std            0.549302               0.204243           0.362453   \n",
       "min            0.530017               0.891601           0.306147   \n",
       "25%            0.928424               1.281776           0.889698   \n",
       "50%            1.198158               1.389786           1.085629   \n",
       "75%            1.781286               1.549875           1.346658   \n",
       "max            2.575232               2.030233           1.822395   \n",
       "\n",
       "       Chassis_Pitch_Rate_std  Chassis_Vert_Accel_std  Chassis_Long_Accel_std  \\\n",
       "count              144.000000              144.000000              144.000000   \n",
       "mean                 1.557071                0.046133                0.274451   \n",
       "std                  0.420311                0.015465                0.072068   \n",
       "min                  0.747567                0.014109                0.156729   \n",
       "25%                  1.282784                0.033647                0.216955   \n",
       "50%                  1.527855                0.045681                0.267522   \n",
       "75%                  1.872441                0.056429                0.328226   \n",
       "max                  2.715697                0.086334                0.436692   \n",
       "\n",
       "       Chassis_Lat_Accel_std  Boom_L2_std  Boom_R2_std  Boom_L2_R2_Average_std  \n",
       "count             144.000000   144.000000   144.000000              144.000000  \n",
       "mean                0.244311   249.793526   249.997490              249.895508  \n",
       "std                 0.095124    66.795436    62.892005               58.991576  \n",
       "min                 0.098730   115.204922   129.157377              125.183747  \n",
       "25%                 0.170533   204.233800   207.668928              204.418962  \n",
       "50%                 0.215871   235.837503   237.382426              238.169146  \n",
       "75%                 0.325822   292.219808   288.385165              290.528696  \n",
       "max                 0.461288   496.777096   456.764470              407.871100  "
      ]
     },
     "execution_count": 458,
     "metadata": {},
     "output_type": "execute_result"
    }
   ],
   "source": [
    "#quick investigation behind the spread of the data for each column in the overall dataframe\n",
    "chassis_data_df.describe()"
   ]
  },
  {
   "cell_type": "code",
   "execution_count": 459,
   "metadata": {},
   "outputs": [
    {
     "data": {
      "text/html": [
       "<div>\n",
       "<style scoped>\n",
       "    .dataframe tbody tr th:only-of-type {\n",
       "        vertical-align: middle;\n",
       "    }\n",
       "\n",
       "    .dataframe tbody tr th {\n",
       "        vertical-align: top;\n",
       "    }\n",
       "\n",
       "    .dataframe thead th {\n",
       "        text-align: right;\n",
       "    }\n",
       "</style>\n",
       "<table border=\"1\" class=\"dataframe\">\n",
       "  <thead>\n",
       "    <tr style=\"text-align: right;\">\n",
       "      <th></th>\n",
       "      <th>Chassis_Roll_std</th>\n",
       "      <th>Chassis_Roll_Rate_std</th>\n",
       "      <th>Chassis_Pitch_std</th>\n",
       "      <th>Chassis_Pitch_Rate_std</th>\n",
       "      <th>Chassis_Vert_Accel_std</th>\n",
       "      <th>Chassis_Long_Accel_std</th>\n",
       "      <th>Chassis_Lat_Accel_std</th>\n",
       "    </tr>\n",
       "  </thead>\n",
       "  <tbody>\n",
       "    <tr>\n",
       "      <th>0</th>\n",
       "      <td>1.165670</td>\n",
       "      <td>1.452349</td>\n",
       "      <td>0.849533</td>\n",
       "      <td>1.400776</td>\n",
       "      <td>0.032987</td>\n",
       "      <td>0.171610</td>\n",
       "      <td>0.199896</td>\n",
       "    </tr>\n",
       "    <tr>\n",
       "      <th>1</th>\n",
       "      <td>1.243374</td>\n",
       "      <td>1.387803</td>\n",
       "      <td>1.352138</td>\n",
       "      <td>1.459247</td>\n",
       "      <td>0.048507</td>\n",
       "      <td>0.295878</td>\n",
       "      <td>0.212548</td>\n",
       "    </tr>\n",
       "    <tr>\n",
       "      <th>2</th>\n",
       "      <td>1.992817</td>\n",
       "      <td>1.313750</td>\n",
       "      <td>0.954994</td>\n",
       "      <td>1.565375</td>\n",
       "      <td>0.030847</td>\n",
       "      <td>0.174432</td>\n",
       "      <td>0.355446</td>\n",
       "    </tr>\n",
       "    <tr>\n",
       "      <th>3</th>\n",
       "      <td>2.238148</td>\n",
       "      <td>1.320530</td>\n",
       "      <td>0.962160</td>\n",
       "      <td>1.395180</td>\n",
       "      <td>0.032016</td>\n",
       "      <td>0.213074</td>\n",
       "      <td>0.368491</td>\n",
       "    </tr>\n",
       "    <tr>\n",
       "      <th>4</th>\n",
       "      <td>1.028731</td>\n",
       "      <td>1.392006</td>\n",
       "      <td>1.478242</td>\n",
       "      <td>2.167844</td>\n",
       "      <td>0.056380</td>\n",
       "      <td>0.281864</td>\n",
       "      <td>0.174176</td>\n",
       "    </tr>\n",
       "  </tbody>\n",
       "</table>\n",
       "</div>"
      ],
      "text/plain": [
       "   Chassis_Roll_std  Chassis_Roll_Rate_std  Chassis_Pitch_std  \\\n",
       "0          1.165670               1.452349           0.849533   \n",
       "1          1.243374               1.387803           1.352138   \n",
       "2          1.992817               1.313750           0.954994   \n",
       "3          2.238148               1.320530           0.962160   \n",
       "4          1.028731               1.392006           1.478242   \n",
       "\n",
       "   Chassis_Pitch_Rate_std  Chassis_Vert_Accel_std  Chassis_Long_Accel_std  \\\n",
       "0                1.400776                0.032987                0.171610   \n",
       "1                1.459247                0.048507                0.295878   \n",
       "2                1.565375                0.030847                0.174432   \n",
       "3                1.395180                0.032016                0.213074   \n",
       "4                2.167844                0.056380                0.281864   \n",
       "\n",
       "   Chassis_Lat_Accel_std  \n",
       "0               0.199896  \n",
       "1               0.212548  \n",
       "2               0.355446  \n",
       "3               0.368491  \n",
       "4               0.174176  "
      ]
     },
     "execution_count": 459,
     "metadata": {},
     "output_type": "execute_result"
    }
   ],
   "source": [
    "#separating the chassis feature data from the overall dataframe\n",
    "chassis_features_df = chassis_data_df.iloc[:,0:7]\n",
    "chassis_features_df.head()"
   ]
  },
  {
   "cell_type": "code",
   "execution_count": 460,
   "metadata": {},
   "outputs": [
    {
     "data": {
      "text/plain": [
       "0    166.753347\n",
       "1    194.506819\n",
       "2    211.174052\n",
       "3    192.257995\n",
       "4    192.557371\n",
       "Name: Boom_L2_R2_Average_std, dtype: float64"
      ]
     },
     "execution_count": 460,
     "metadata": {},
     "output_type": "execute_result"
    }
   ],
   "source": [
    "#separating the prediction data (L2/R2 average standard deviation) from the overall dataframe\n",
    "boom_std_df = chassis_data_df.iloc[:,9]\n",
    "boom_std_df.head()"
   ]
  },
  {
   "cell_type": "code",
   "execution_count": 461,
   "metadata": {},
   "outputs": [
    {
     "data": {
      "text/html": [
       "<div>\n",
       "<style scoped>\n",
       "    .dataframe tbody tr th:only-of-type {\n",
       "        vertical-align: middle;\n",
       "    }\n",
       "\n",
       "    .dataframe tbody tr th {\n",
       "        vertical-align: top;\n",
       "    }\n",
       "\n",
       "    .dataframe thead th {\n",
       "        text-align: right;\n",
       "    }\n",
       "</style>\n",
       "<table border=\"1\" class=\"dataframe\">\n",
       "  <thead>\n",
       "    <tr style=\"text-align: right;\">\n",
       "      <th></th>\n",
       "      <th>Chassis_Roll_std</th>\n",
       "      <th>Chassis_Roll_Rate_std</th>\n",
       "      <th>Chassis_Pitch_std</th>\n",
       "      <th>Chassis_Pitch_Rate_std</th>\n",
       "      <th>Chassis_Vert_Accel_std</th>\n",
       "      <th>Chassis_Long_Accel_std</th>\n",
       "      <th>Chassis_Lat_Accel_std</th>\n",
       "    </tr>\n",
       "  </thead>\n",
       "  <tbody>\n",
       "    <tr>\n",
       "      <th>Chassis_Roll_std</th>\n",
       "      <td>1.000000</td>\n",
       "      <td>0.301172</td>\n",
       "      <td>0.437500</td>\n",
       "      <td>0.246549</td>\n",
       "      <td>0.293055</td>\n",
       "      <td>0.182195</td>\n",
       "      <td>0.959940</td>\n",
       "    </tr>\n",
       "    <tr>\n",
       "      <th>Chassis_Roll_Rate_std</th>\n",
       "      <td>0.301172</td>\n",
       "      <td>1.000000</td>\n",
       "      <td>0.103644</td>\n",
       "      <td>0.152192</td>\n",
       "      <td>0.120261</td>\n",
       "      <td>0.102056</td>\n",
       "      <td>0.270369</td>\n",
       "    </tr>\n",
       "    <tr>\n",
       "      <th>Chassis_Pitch_std</th>\n",
       "      <td>0.437500</td>\n",
       "      <td>0.103644</td>\n",
       "      <td>1.000000</td>\n",
       "      <td>0.540613</td>\n",
       "      <td>0.716344</td>\n",
       "      <td>0.348729</td>\n",
       "      <td>0.414422</td>\n",
       "    </tr>\n",
       "    <tr>\n",
       "      <th>Chassis_Pitch_Rate_std</th>\n",
       "      <td>0.246549</td>\n",
       "      <td>0.152192</td>\n",
       "      <td>0.540613</td>\n",
       "      <td>1.000000</td>\n",
       "      <td>0.660550</td>\n",
       "      <td>0.023247</td>\n",
       "      <td>0.267230</td>\n",
       "    </tr>\n",
       "    <tr>\n",
       "      <th>Chassis_Vert_Accel_std</th>\n",
       "      <td>0.293055</td>\n",
       "      <td>0.120261</td>\n",
       "      <td>0.716344</td>\n",
       "      <td>0.660550</td>\n",
       "      <td>1.000000</td>\n",
       "      <td>0.409668</td>\n",
       "      <td>0.310625</td>\n",
       "    </tr>\n",
       "    <tr>\n",
       "      <th>Chassis_Long_Accel_std</th>\n",
       "      <td>0.182195</td>\n",
       "      <td>0.102056</td>\n",
       "      <td>0.348729</td>\n",
       "      <td>0.023247</td>\n",
       "      <td>0.409668</td>\n",
       "      <td>1.000000</td>\n",
       "      <td>0.174861</td>\n",
       "    </tr>\n",
       "    <tr>\n",
       "      <th>Chassis_Lat_Accel_std</th>\n",
       "      <td>0.959940</td>\n",
       "      <td>0.270369</td>\n",
       "      <td>0.414422</td>\n",
       "      <td>0.267230</td>\n",
       "      <td>0.310625</td>\n",
       "      <td>0.174861</td>\n",
       "      <td>1.000000</td>\n",
       "    </tr>\n",
       "  </tbody>\n",
       "</table>\n",
       "</div>"
      ],
      "text/plain": [
       "                        Chassis_Roll_std  Chassis_Roll_Rate_std  \\\n",
       "Chassis_Roll_std                1.000000               0.301172   \n",
       "Chassis_Roll_Rate_std           0.301172               1.000000   \n",
       "Chassis_Pitch_std               0.437500               0.103644   \n",
       "Chassis_Pitch_Rate_std          0.246549               0.152192   \n",
       "Chassis_Vert_Accel_std          0.293055               0.120261   \n",
       "Chassis_Long_Accel_std          0.182195               0.102056   \n",
       "Chassis_Lat_Accel_std           0.959940               0.270369   \n",
       "\n",
       "                        Chassis_Pitch_std  Chassis_Pitch_Rate_std  \\\n",
       "Chassis_Roll_std                 0.437500                0.246549   \n",
       "Chassis_Roll_Rate_std            0.103644                0.152192   \n",
       "Chassis_Pitch_std                1.000000                0.540613   \n",
       "Chassis_Pitch_Rate_std           0.540613                1.000000   \n",
       "Chassis_Vert_Accel_std           0.716344                0.660550   \n",
       "Chassis_Long_Accel_std           0.348729                0.023247   \n",
       "Chassis_Lat_Accel_std            0.414422                0.267230   \n",
       "\n",
       "                        Chassis_Vert_Accel_std  Chassis_Long_Accel_std  \\\n",
       "Chassis_Roll_std                      0.293055                0.182195   \n",
       "Chassis_Roll_Rate_std                 0.120261                0.102056   \n",
       "Chassis_Pitch_std                     0.716344                0.348729   \n",
       "Chassis_Pitch_Rate_std                0.660550                0.023247   \n",
       "Chassis_Vert_Accel_std                1.000000                0.409668   \n",
       "Chassis_Long_Accel_std                0.409668                1.000000   \n",
       "Chassis_Lat_Accel_std                 0.310625                0.174861   \n",
       "\n",
       "                        Chassis_Lat_Accel_std  \n",
       "Chassis_Roll_std                     0.959940  \n",
       "Chassis_Roll_Rate_std                0.270369  \n",
       "Chassis_Pitch_std                    0.414422  \n",
       "Chassis_Pitch_Rate_std               0.267230  \n",
       "Chassis_Vert_Accel_std               0.310625  \n",
       "Chassis_Long_Accel_std               0.174861  \n",
       "Chassis_Lat_Accel_std                1.000000  "
      ]
     },
     "execution_count": 461,
     "metadata": {},
     "output_type": "execute_result"
    }
   ],
   "source": [
    "#checking the correlation between the various features\n",
    "feature_corr = chassis_features_df.corr(method = \"pearson\")\n",
    "feature_corr"
   ]
  },
  {
   "cell_type": "code",
   "execution_count": 462,
   "metadata": {},
   "outputs": [
    {
     "data": {
      "text/plain": [
       "<matplotlib.axes._subplots.AxesSubplot at 0x26d9ea17c18>"
      ]
     },
     "execution_count": 462,
     "metadata": {},
     "output_type": "execute_result"
    },
    {
     "data": {
      "image/png": "[encoded data removed]",
      "text/plain": [
       "<Figure size 432x288 with 2 Axes>"
      ]
     },
     "metadata": {
      "needs_background": "light"
     },
     "output_type": "display_data"
    }
   ],
   "source": [
    "#produces a correlation heatmap for visual effect using the seaborn package within python\n",
    "import seaborn as sns\n",
    "sns.heatmap(feature_corr)"
   ]
  },
  {
   "cell_type": "markdown",
   "metadata": {},
   "source": [
    "As indicated by the correlation heatmap, the most highly correlated features are chassis lateral acceleration and chassis roll."
   ]
  },
  {
   "cell_type": "markdown",
   "metadata": {},
   "source": [
    "## Random Forest Machine Learning Algorithm"
   ]
  },
  {
   "cell_type": "code",
   "execution_count": 463,
   "metadata": {},
   "outputs": [],
   "source": [
    "from sklearn.model_selection import train_test_split"
   ]
  },
  {
   "cell_type": "code",
   "execution_count": 464,
   "metadata": {},
   "outputs": [],
   "source": [
    "#training the machine learning model with a specified test size and random state\n",
    "X_train, X_test, Y_train, Y_test = train_test_split(chassis_features_df, boom_std_df, test_size = 0.15, random_state = 0)"
   ]
  },
  {
   "cell_type": "code",
   "execution_count": 465,
   "metadata": {},
   "outputs": [
    {
     "name": "stdout",
     "output_type": "stream",
     "text": [
      "(122, 7) (122,)\n"
     ]
    }
   ],
   "source": [
    "print(X_train.shape, Y_train.shape)"
   ]
  },
  {
   "cell_type": "code",
   "execution_count": 466,
   "metadata": {},
   "outputs": [
    {
     "data": {
      "text/plain": [
       "RandomForestRegressor(bootstrap=True, criterion='mse', max_depth=None,\n",
       "                      max_features='auto', max_leaf_nodes=None,\n",
       "                      min_impurity_decrease=0.0, min_impurity_split=None,\n",
       "                      min_samples_leaf=1, min_samples_split=2,\n",
       "                      min_weight_fraction_leaf=0.0, n_estimators=1000,\n",
       "                      n_jobs=None, oob_score=False, random_state=0, verbose=0,\n",
       "                      warm_start=False)"
      ]
     },
     "execution_count": 466,
     "metadata": {},
     "output_type": "execute_result"
    }
   ],
   "source": [
    "reg = ske.RandomForestRegressor(n_estimators = 1000, random_state = 0)\n",
    "reg.fit(X_train, Y_train)"
   ]
  },
  {
   "cell_type": "code",
   "execution_count": 467,
   "metadata": {},
   "outputs": [
    {
     "data": {
      "text/plain": [
       "RandomForestRegressor(bootstrap=True, criterion='mse', max_depth=None,\n",
       "                      max_features='auto', max_leaf_nodes=None,\n",
       "                      min_impurity_decrease=0.0, min_impurity_split=None,\n",
       "                      min_samples_leaf=1, min_samples_split=2,\n",
       "                      min_weight_fraction_leaf=0.0, n_estimators=1000,\n",
       "                      n_jobs=None, oob_score=False, random_state=0, verbose=0,\n",
       "                      warm_start=False)"
      ]
     },
     "execution_count": 467,
     "metadata": {},
     "output_type": "execute_result"
    }
   ],
   "source": [
    "Y_train = np.ravel(Y_train)\n",
    "reg.fit(X_train, Y_train)"
   ]
  },
  {
   "cell_type": "code",
   "execution_count": 468,
   "metadata": {},
   "outputs": [],
   "source": [
    "Y_pred = reg.predict(X_test)"
   ]
  },
  {
   "cell_type": "code",
   "execution_count": 469,
   "metadata": {},
   "outputs": [],
   "source": [
    "from sklearn.metrics import explained_variance_score, max_error, mean_absolute_error, mean_squared_error, r2_score"
   ]
  },
  {
   "cell_type": "code",
   "execution_count": 470,
   "metadata": {},
   "outputs": [
    {
     "data": {
      "text/plain": [
       "0.503904680007299"
      ]
     },
     "execution_count": 470,
     "metadata": {},
     "output_type": "execute_result"
    }
   ],
   "source": [
    "#explained variance regression score function (best possible score is 1.0, lower values are worse)\n",
    "explained_variance_score(Y_test, Y_pred)"
   ]
  },
  {
   "cell_type": "code",
   "execution_count": 471,
   "metadata": {},
   "outputs": [
    {
     "data": {
      "text/plain": [
       "98.78561446849992"
      ]
     },
     "execution_count": 471,
     "metadata": {},
     "output_type": "execute_result"
    }
   ],
   "source": [
    "#max_error calculates the maximum residual error\n",
    "max_error(Y_test, Y_pred)"
   ]
  },
  {
   "cell_type": "code",
   "execution_count": 472,
   "metadata": {},
   "outputs": [
    {
     "data": {
      "text/plain": [
       "array([0.07103023, 0.08042182, 0.08138593, 0.11192964, 0.15416484,\n",
       "       0.12869529, 0.37237227])"
      ]
     },
     "execution_count": 472,
     "metadata": {},
     "output_type": "execute_result"
    }
   ],
   "source": [
    "#evaluates the importance of features on an artificial classification task\n",
    "reg.feature_importances_"
   ]
  },
  {
   "cell_type": "code",
   "execution_count": 473,
   "metadata": {},
   "outputs": [
    {
     "data": {
      "text/plain": [
       "array([6, 4, 5, 3, 2, 1, 0], dtype=int64)"
      ]
     },
     "execution_count": 473,
     "metadata": {},
     "output_type": "execute_result"
    }
   ],
   "source": [
    "#sorts the index of the features\n",
    "fet_ind = np.argsort(reg.feature_importances_)[::-1]\n",
    "fet_ind"
   ]
  },
  {
   "cell_type": "code",
   "execution_count": 474,
   "metadata": {},
   "outputs": [
    {
     "data": {
      "text/plain": [
       "array([0.37237227, 0.15416484, 0.12869529, 0.11192964, 0.08138593,\n",
       "       0.08042182, 0.07103023])"
      ]
     },
     "execution_count": 474,
     "metadata": {},
     "output_type": "execute_result"
    }
   ],
   "source": [
    "#sorts the actual values of the features in ascending order\n",
    "fet_imp = reg.feature_importances_[np.argsort(reg.feature_importances_)][::-1]\n",
    "fet_imp"
   ]
  },
  {
   "cell_type": "code",
   "execution_count": 475,
   "metadata": {},
   "outputs": [
    {
     "data": {
      "text/plain": [
       "Index(['Chassis_Lat_Accel_std', 'Chassis_Vert_Accel_std',\n",
       "       'Chassis_Long_Accel_std', 'Chassis_Pitch_Rate_std', 'Chassis_Pitch_std',\n",
       "       'Chassis_Roll_Rate_std', 'Chassis_Roll_std'],\n",
       "      dtype='object')"
      ]
     },
     "execution_count": 475,
     "metadata": {},
     "output_type": "execute_result"
    }
   ],
   "source": [
    "#labels the index of the features by their columns names\n",
    "chassis_features_df.columns[fet_ind]"
   ]
  },
  {
   "cell_type": "code",
   "execution_count": 476,
   "metadata": {},
   "outputs": [
    {
     "data": {
      "text/plain": [
       "Text(0.5, 1.0, 'Chassis Feature Importance')"
      ]
     },
     "execution_count": 476,
     "metadata": {},
     "output_type": "execute_result"
    },
    {
     "data": {
      "image/png": "[encoded data removed]",
      "text/plain": [
       "<Figure size 720x288 with 1 Axes>"
      ]
     },
     "metadata": {
      "needs_background": "light"
     },
     "output_type": "display_data"
    }
   ],
   "source": [
    "#creates a bar plot of feature importance\n",
    "fig, ax = plt.subplots(1, 1, figsize = (10,4))\n",
    "labels = chassis_features_df.columns[fet_ind]\n",
    "pd.Series(fet_imp, index = labels).plot('bar', ax=ax)\n",
    "ax.set_title('Chassis Feature Importance')"
   ]
  },
  {
   "cell_type": "code",
   "execution_count": 477,
   "metadata": {},
   "outputs": [
    {
     "data": {
      "text/plain": [
       "DecisionTreeRegressor(criterion='mse', max_depth=None, max_features='auto',\n",
       "                      max_leaf_nodes=None, min_impurity_decrease=0.0,\n",
       "                      min_impurity_split=None, min_samples_leaf=1,\n",
       "                      min_samples_split=2, min_weight_fraction_leaf=0.0,\n",
       "                      presort=False, random_state=209652396, splitter='best')"
      ]
     },
     "execution_count": 477,
     "metadata": {},
     "output_type": "execute_result"
    }
   ],
   "source": [
    "from sklearn import tree\n",
    "reg.estimators_[0]"
   ]
  },
  {
   "cell_type": "code",
   "execution_count": 478,
   "metadata": {},
   "outputs": [],
   "source": [
    "#generates an output microsoft word document of code that visualizes a random forest decision tree\n",
    "#this code can be copied over to http://www.webgraphviz.com/\n",
    "tree.export_graphviz(reg.estimators_[5], 'tree.dot', feature_names = chassis_features_df.columns, rounded=True, precision=1)"
   ]
  }
 ],
 "metadata": {
  "kernelspec": {
   "display_name": "Python 3",
   "language": "python",
   "name": "python3"
  },
  "language_info": {
   "codemirror_mode": {
    "name": "ipython",
    "version": 3
   },
   "file_extension": ".py",
   "mimetype": "text/x-python",
   "name": "python",
   "nbconvert_exporter": "python",
   "pygments_lexer": "ipython3",
   "version": "3.7.3"
  }
 },
 "nbformat": 4,
 "nbformat_minor": 2
}
