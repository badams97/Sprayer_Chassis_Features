{
 "cells": [
  {
   "cell_type": "markdown",
   "metadata": {},
   "source": [
    "## Introduction\n",
    "\n",
    "The goal of this pyhton code is to determine which chassis suspension features have the most influence on boom height stability of self-propelled sprayers.  These features are inherent of vehicle dynamics characteristics related to the chassis of the machine, such as roll rate, vertical acceleration, etc.  This analysis will be conducted with a supervised machine learning algorithm called \"Random Forest\" in order to extract the most important chassis features."
   ]
  },
  {
   "cell_type": "code",
   "execution_count": 267,
   "metadata": {},
   "outputs": [],
   "source": [
    "#imports most of the necessary python packages for this data analysis\n",
    "import numpy as np\n",
    "import sklearn as sk\n",
    "import sklearn.datasets as skd\n",
    "import sklearn.ensemble as ske\n",
    "import matplotlib.pyplot as plt\n",
    "import pandas as pd\n",
    "%matplotlib inline"
   ]
  },
  {
   "cell_type": "markdown",
   "metadata": {},
   "source": [
    "## Data Wrangling\n",
    "\n",
    "The data needs to be organized into a panda's dataframe for visual clarity and easy utilization.  Each index represents an entire field pass of the same machine configuration.  The following key performance indicators are based on average values and are included in this initial overview dataframe:\n",
    "- Chassis roll\n",
    "- Chassis roll rate\n",
    "- Chassis pitch\n",
    "- Chassis pitch rate\n",
    "- Chassis vertical acceleration\n",
    "- Chassis longitudinal acceleration\n",
    "- Chassis lateral acceleration\n",
    "\n",
    "\n",
    "- L2 ultrasonic elevation\n",
    "- R2 ultrasonic elevation\n",
    "- Average L2 & R2 ultrasonic elevation"
   ]
  },
  {
   "cell_type": "code",
   "execution_count": 517,
   "metadata": {},
   "outputs": [
    {
     "data": {
      "text/html": [
       "<div>\n",
       "<style scoped>\n",
       "    .dataframe tbody tr th:only-of-type {\n",
       "        vertical-align: middle;\n",
       "    }\n",
       "\n",
       "    .dataframe tbody tr th {\n",
       "        vertical-align: top;\n",
       "    }\n",
       "\n",
       "    .dataframe thead th {\n",
       "        text-align: right;\n",
       "    }\n",
       "</style>\n",
       "<table border=\"1\" class=\"dataframe\">\n",
       "  <thead>\n",
       "    <tr style=\"text-align: right;\">\n",
       "      <th></th>\n",
       "      <th>Chassis_Roll_mean</th>\n",
       "      <th>Chassis_Roll_Rate_mean</th>\n",
       "      <th>Chassis_Pitch_mean</th>\n",
       "      <th>Chassis_Pitch_Rate_mean</th>\n",
       "      <th>Chassis_Vert_Accel_mean</th>\n",
       "      <th>Chassis_Long_Accel_mean</th>\n",
       "      <th>Chassis_Lat_Accel_mean</th>\n",
       "      <th>Boom_L2_std</th>\n",
       "      <th>Boom_R2_std</th>\n",
       "      <th>Boom_L2_R2_Average_std</th>\n",
       "    </tr>\n",
       "  </thead>\n",
       "  <tbody>\n",
       "    <tr>\n",
       "      <th>0</th>\n",
       "      <td>2.284831</td>\n",
       "      <td>0.196373</td>\n",
       "      <td>1.515955</td>\n",
       "      <td>-0.480477</td>\n",
       "      <td>9.813797</td>\n",
       "      <td>0.153772</td>\n",
       "      <td>0.466084</td>\n",
       "      <td>168.179845</td>\n",
       "      <td>165.326849</td>\n",
       "      <td>166.753347</td>\n",
       "    </tr>\n",
       "    <tr>\n",
       "      <th>1</th>\n",
       "      <td>-2.357010</td>\n",
       "      <td>0.252221</td>\n",
       "      <td>-0.655178</td>\n",
       "      <td>-0.576797</td>\n",
       "      <td>9.810353</td>\n",
       "      <td>0.107525</td>\n",
       "      <td>-0.366866</td>\n",
       "      <td>173.627026</td>\n",
       "      <td>215.386613</td>\n",
       "      <td>194.506819</td>\n",
       "    </tr>\n",
       "    <tr>\n",
       "      <th>2</th>\n",
       "      <td>0.621063</td>\n",
       "      <td>0.282433</td>\n",
       "      <td>1.346402</td>\n",
       "      <td>-0.502552</td>\n",
       "      <td>9.824900</td>\n",
       "      <td>0.190726</td>\n",
       "      <td>0.249052</td>\n",
       "      <td>188.293229</td>\n",
       "      <td>234.054875</td>\n",
       "      <td>211.174052</td>\n",
       "    </tr>\n",
       "    <tr>\n",
       "      <th>3</th>\n",
       "      <td>2.492119</td>\n",
       "      <td>0.227887</td>\n",
       "      <td>0.007240</td>\n",
       "      <td>-0.539620</td>\n",
       "      <td>9.807254</td>\n",
       "      <td>0.074085</td>\n",
       "      <td>0.420933</td>\n",
       "      <td>176.257845</td>\n",
       "      <td>208.258146</td>\n",
       "      <td>192.257995</td>\n",
       "    </tr>\n",
       "    <tr>\n",
       "      <th>4</th>\n",
       "      <td>-2.860568</td>\n",
       "      <td>0.237381</td>\n",
       "      <td>1.472113</td>\n",
       "      <td>-0.559221</td>\n",
       "      <td>9.807675</td>\n",
       "      <td>0.170151</td>\n",
       "      <td>-0.312717</td>\n",
       "      <td>168.987986</td>\n",
       "      <td>216.126756</td>\n",
       "      <td>192.557371</td>\n",
       "    </tr>\n",
       "    <tr>\n",
       "      <th>5</th>\n",
       "      <td>3.440322</td>\n",
       "      <td>0.260563</td>\n",
       "      <td>-0.288552</td>\n",
       "      <td>-0.552804</td>\n",
       "      <td>9.805874</td>\n",
       "      <td>0.064734</td>\n",
       "      <td>0.518340</td>\n",
       "      <td>217.550777</td>\n",
       "      <td>195.837967</td>\n",
       "      <td>206.694372</td>\n",
       "    </tr>\n",
       "    <tr>\n",
       "      <th>6</th>\n",
       "      <td>1.689145</td>\n",
       "      <td>0.156441</td>\n",
       "      <td>1.430515</td>\n",
       "      <td>-0.478650</td>\n",
       "      <td>9.819644</td>\n",
       "      <td>0.132030</td>\n",
       "      <td>0.267781</td>\n",
       "      <td>200.433252</td>\n",
       "      <td>196.479785</td>\n",
       "      <td>198.456519</td>\n",
       "    </tr>\n",
       "    <tr>\n",
       "      <th>7</th>\n",
       "      <td>-1.927387</td>\n",
       "      <td>0.226862</td>\n",
       "      <td>0.619088</td>\n",
       "      <td>-0.502623</td>\n",
       "      <td>9.818433</td>\n",
       "      <td>0.204058</td>\n",
       "      <td>-0.171645</td>\n",
       "      <td>190.650008</td>\n",
       "      <td>210.137701</td>\n",
       "      <td>200.393854</td>\n",
       "    </tr>\n",
       "    <tr>\n",
       "      <th>8</th>\n",
       "      <td>2.189631</td>\n",
       "      <td>0.290175</td>\n",
       "      <td>0.894358</td>\n",
       "      <td>-0.456564</td>\n",
       "      <td>9.814669</td>\n",
       "      <td>0.112426</td>\n",
       "      <td>0.418233</td>\n",
       "      <td>293.422035</td>\n",
       "      <td>288.378679</td>\n",
       "      <td>290.900357</td>\n",
       "    </tr>\n",
       "    <tr>\n",
       "      <th>9</th>\n",
       "      <td>-0.462547</td>\n",
       "      <td>0.384812</td>\n",
       "      <td>0.150088</td>\n",
       "      <td>-0.590048</td>\n",
       "      <td>9.803622</td>\n",
       "      <td>0.117205</td>\n",
       "      <td>-0.034005</td>\n",
       "      <td>284.657096</td>\n",
       "      <td>278.674454</td>\n",
       "      <td>281.665775</td>\n",
       "    </tr>\n",
       "  </tbody>\n",
       "</table>\n",
       "</div>"
      ],
      "text/plain": [
       "   Chassis_Roll_mean  Chassis_Roll_Rate_mean  Chassis_Pitch_mean  \\\n",
       "0           2.284831                0.196373            1.515955   \n",
       "1          -2.357010                0.252221           -0.655178   \n",
       "2           0.621063                0.282433            1.346402   \n",
       "3           2.492119                0.227887            0.007240   \n",
       "4          -2.860568                0.237381            1.472113   \n",
       "5           3.440322                0.260563           -0.288552   \n",
       "6           1.689145                0.156441            1.430515   \n",
       "7          -1.927387                0.226862            0.619088   \n",
       "8           2.189631                0.290175            0.894358   \n",
       "9          -0.462547                0.384812            0.150088   \n",
       "\n",
       "   Chassis_Pitch_Rate_mean  Chassis_Vert_Accel_mean  Chassis_Long_Accel_mean  \\\n",
       "0                -0.480477                 9.813797                 0.153772   \n",
       "1                -0.576797                 9.810353                 0.107525   \n",
       "2                -0.502552                 9.824900                 0.190726   \n",
       "3                -0.539620                 9.807254                 0.074085   \n",
       "4                -0.559221                 9.807675                 0.170151   \n",
       "5                -0.552804                 9.805874                 0.064734   \n",
       "6                -0.478650                 9.819644                 0.132030   \n",
       "7                -0.502623                 9.818433                 0.204058   \n",
       "8                -0.456564                 9.814669                 0.112426   \n",
       "9                -0.590048                 9.803622                 0.117205   \n",
       "\n",
       "   Chassis_Lat_Accel_mean  Boom_L2_std  Boom_R2_std  Boom_L2_R2_Average_std  \n",
       "0                0.466084   168.179845   165.326849              166.753347  \n",
       "1               -0.366866   173.627026   215.386613              194.506819  \n",
       "2                0.249052   188.293229   234.054875              211.174052  \n",
       "3                0.420933   176.257845   208.258146              192.257995  \n",
       "4               -0.312717   168.987986   216.126756              192.557371  \n",
       "5                0.518340   217.550777   195.837967              206.694372  \n",
       "6                0.267781   200.433252   196.479785              198.456519  \n",
       "7               -0.171645   190.650008   210.137701              200.393854  \n",
       "8                0.418233   293.422035   288.378679              290.900357  \n",
       "9               -0.034005   284.657096   278.674454              281.665775  "
      ]
     },
     "execution_count": 517,
     "metadata": {},
     "output_type": "execute_result"
    }
   ],
   "source": [
    "#reads the data into a pandas dataframe and displays the first 10 rows\n",
    "chassis_data_df = pd.read_csv('Chassis_Features_Mean_1.csv')\n",
    "chassis_data_df.head(10)"
   ]
  },
  {
   "cell_type": "markdown",
   "metadata": {},
   "source": [
    "## Initial Data Analysis\n",
    "\n",
    "This section of code serves as an initial investigation to questions like: what does the data look like? are there any null values present in the dataframe? what is the spread of each data signal?  what is the correlation behind the various features?"
   ]
  },
  {
   "cell_type": "code",
   "execution_count": 518,
   "metadata": {},
   "outputs": [
    {
     "data": {
      "text/plain": [
       "(42, 10)"
      ]
     },
     "execution_count": 518,
     "metadata": {},
     "output_type": "execute_result"
    }
   ],
   "source": [
    "chassis_data_df.shape"
   ]
  },
  {
   "cell_type": "code",
   "execution_count": 519,
   "metadata": {},
   "outputs": [
    {
     "data": {
      "text/plain": [
       "'The overall dataframe shape implies that 42 field passes are included in this analysis.'"
      ]
     },
     "execution_count": 519,
     "metadata": {},
     "output_type": "execute_result"
    }
   ],
   "source": [
    "rows = chassis_data_df.shape[0]\n",
    "\n",
    "\"The overall dataframe shape implies that %i field passes are included in this analysis.\" % rows"
   ]
  },
  {
   "cell_type": "code",
   "execution_count": 520,
   "metadata": {},
   "outputs": [
    {
     "data": {
      "text/plain": [
       "Chassis_Roll_mean          0\n",
       "Chassis_Roll_Rate_mean     0\n",
       "Chassis_Pitch_mean         0\n",
       "Chassis_Pitch_Rate_mean    0\n",
       "Chassis_Vert_Accel_mean    0\n",
       "Chassis_Long_Accel_mean    0\n",
       "Chassis_Lat_Accel_mean     0\n",
       "Boom_L2_std                0\n",
       "Boom_R2_std                0\n",
       "Boom_L2_R2_Average_std     0\n",
       "dtype: int64"
      ]
     },
     "execution_count": 520,
     "metadata": {},
     "output_type": "execute_result"
    }
   ],
   "source": [
    "#validating that no null values are present in the data\n",
    "pd.isnull(chassis_data_df).sum()"
   ]
  },
  {
   "cell_type": "code",
   "execution_count": 521,
   "metadata": {},
   "outputs": [
    {
     "data": {
      "text/html": [
       "<div>\n",
       "<style scoped>\n",
       "    .dataframe tbody tr th:only-of-type {\n",
       "        vertical-align: middle;\n",
       "    }\n",
       "\n",
       "    .dataframe tbody tr th {\n",
       "        vertical-align: top;\n",
       "    }\n",
       "\n",
       "    .dataframe thead th {\n",
       "        text-align: right;\n",
       "    }\n",
       "</style>\n",
       "<table border=\"1\" class=\"dataframe\">\n",
       "  <thead>\n",
       "    <tr style=\"text-align: right;\">\n",
       "      <th></th>\n",
       "      <th>Chassis_Roll_mean</th>\n",
       "      <th>Chassis_Roll_Rate_mean</th>\n",
       "      <th>Chassis_Pitch_mean</th>\n",
       "      <th>Chassis_Pitch_Rate_mean</th>\n",
       "      <th>Chassis_Vert_Accel_mean</th>\n",
       "      <th>Chassis_Long_Accel_mean</th>\n",
       "      <th>Chassis_Lat_Accel_mean</th>\n",
       "      <th>Boom_L2_std</th>\n",
       "      <th>Boom_R2_std</th>\n",
       "      <th>Boom_L2_R2_Average_std</th>\n",
       "    </tr>\n",
       "  </thead>\n",
       "  <tbody>\n",
       "    <tr>\n",
       "      <th>count</th>\n",
       "      <td>42.000000</td>\n",
       "      <td>42.000000</td>\n",
       "      <td>42.000000</td>\n",
       "      <td>42.000000</td>\n",
       "      <td>42.000000</td>\n",
       "      <td>42.000000</td>\n",
       "      <td>42.000000</td>\n",
       "      <td>42.000000</td>\n",
       "      <td>42.000000</td>\n",
       "      <td>42.000000</td>\n",
       "    </tr>\n",
       "    <tr>\n",
       "      <th>mean</th>\n",
       "      <td>0.442188</td>\n",
       "      <td>0.257400</td>\n",
       "      <td>0.743459</td>\n",
       "      <td>-0.523652</td>\n",
       "      <td>9.810800</td>\n",
       "      <td>0.133781</td>\n",
       "      <td>0.126774</td>\n",
       "      <td>208.862895</td>\n",
       "      <td>214.437658</td>\n",
       "      <td>211.650276</td>\n",
       "    </tr>\n",
       "    <tr>\n",
       "      <th>std</th>\n",
       "      <td>2.025554</td>\n",
       "      <td>0.050148</td>\n",
       "      <td>1.084782</td>\n",
       "      <td>0.044463</td>\n",
       "      <td>0.006973</td>\n",
       "      <td>0.100892</td>\n",
       "      <td>0.318434</td>\n",
       "      <td>47.877687</td>\n",
       "      <td>45.951347</td>\n",
       "      <td>43.015771</td>\n",
       "    </tr>\n",
       "    <tr>\n",
       "      <th>min</th>\n",
       "      <td>-2.860568</td>\n",
       "      <td>0.156441</td>\n",
       "      <td>-1.147106</td>\n",
       "      <td>-0.599037</td>\n",
       "      <td>9.794721</td>\n",
       "      <td>-0.050209</td>\n",
       "      <td>-0.380614</td>\n",
       "      <td>115.204922</td>\n",
       "      <td>135.162572</td>\n",
       "      <td>125.183747</td>\n",
       "    </tr>\n",
       "    <tr>\n",
       "      <th>25%</th>\n",
       "      <td>-1.443751</td>\n",
       "      <td>0.224307</td>\n",
       "      <td>-0.073512</td>\n",
       "      <td>-0.558001</td>\n",
       "      <td>9.807360</td>\n",
       "      <td>0.074134</td>\n",
       "      <td>-0.149239</td>\n",
       "      <td>177.197149</td>\n",
       "      <td>184.992987</td>\n",
       "      <td>188.520148</td>\n",
       "    </tr>\n",
       "    <tr>\n",
       "      <th>50%</th>\n",
       "      <td>0.724170</td>\n",
       "      <td>0.258274</td>\n",
       "      <td>0.800210</td>\n",
       "      <td>-0.529100</td>\n",
       "      <td>9.810317</td>\n",
       "      <td>0.135314</td>\n",
       "      <td>0.235028</td>\n",
       "      <td>199.423455</td>\n",
       "      <td>209.197924</td>\n",
       "      <td>199.939304</td>\n",
       "    </tr>\n",
       "    <tr>\n",
       "      <th>75%</th>\n",
       "      <td>2.170897</td>\n",
       "      <td>0.281632</td>\n",
       "      <td>1.504994</td>\n",
       "      <td>-0.479812</td>\n",
       "      <td>9.814451</td>\n",
       "      <td>0.196928</td>\n",
       "      <td>0.412479</td>\n",
       "      <td>226.177425</td>\n",
       "      <td>232.258735</td>\n",
       "      <td>229.035091</td>\n",
       "    </tr>\n",
       "    <tr>\n",
       "      <th>max</th>\n",
       "      <td>3.440322</td>\n",
       "      <td>0.384812</td>\n",
       "      <td>2.832437</td>\n",
       "      <td>-0.443456</td>\n",
       "      <td>9.824900</td>\n",
       "      <td>0.337143</td>\n",
       "      <td>0.550201</td>\n",
       "      <td>379.759626</td>\n",
       "      <td>370.262662</td>\n",
       "      <td>332.416058</td>\n",
       "    </tr>\n",
       "  </tbody>\n",
       "</table>\n",
       "</div>"
      ],
      "text/plain": [
       "       Chassis_Roll_mean  Chassis_Roll_Rate_mean  Chassis_Pitch_mean  \\\n",
       "count          42.000000               42.000000           42.000000   \n",
       "mean            0.442188                0.257400            0.743459   \n",
       "std             2.025554                0.050148            1.084782   \n",
       "min            -2.860568                0.156441           -1.147106   \n",
       "25%            -1.443751                0.224307           -0.073512   \n",
       "50%             0.724170                0.258274            0.800210   \n",
       "75%             2.170897                0.281632            1.504994   \n",
       "max             3.440322                0.384812            2.832437   \n",
       "\n",
       "       Chassis_Pitch_Rate_mean  Chassis_Vert_Accel_mean  \\\n",
       "count                42.000000                42.000000   \n",
       "mean                 -0.523652                 9.810800   \n",
       "std                   0.044463                 0.006973   \n",
       "min                  -0.599037                 9.794721   \n",
       "25%                  -0.558001                 9.807360   \n",
       "50%                  -0.529100                 9.810317   \n",
       "75%                  -0.479812                 9.814451   \n",
       "max                  -0.443456                 9.824900   \n",
       "\n",
       "       Chassis_Long_Accel_mean  Chassis_Lat_Accel_mean  Boom_L2_std  \\\n",
       "count                42.000000               42.000000    42.000000   \n",
       "mean                  0.133781                0.126774   208.862895   \n",
       "std                   0.100892                0.318434    47.877687   \n",
       "min                  -0.050209               -0.380614   115.204922   \n",
       "25%                   0.074134               -0.149239   177.197149   \n",
       "50%                   0.135314                0.235028   199.423455   \n",
       "75%                   0.196928                0.412479   226.177425   \n",
       "max                   0.337143                0.550201   379.759626   \n",
       "\n",
       "       Boom_R2_std  Boom_L2_R2_Average_std  \n",
       "count    42.000000               42.000000  \n",
       "mean    214.437658              211.650276  \n",
       "std      45.951347               43.015771  \n",
       "min     135.162572              125.183747  \n",
       "25%     184.992987              188.520148  \n",
       "50%     209.197924              199.939304  \n",
       "75%     232.258735              229.035091  \n",
       "max     370.262662              332.416058  "
      ]
     },
     "execution_count": 521,
     "metadata": {},
     "output_type": "execute_result"
    }
   ],
   "source": [
    "#quick investigation behind the spread of the data for each column in the overall dataframe\n",
    "chassis_data_df.describe()"
   ]
  },
  {
   "cell_type": "code",
   "execution_count": 522,
   "metadata": {},
   "outputs": [
    {
     "data": {
      "text/html": [
       "<div>\n",
       "<style scoped>\n",
       "    .dataframe tbody tr th:only-of-type {\n",
       "        vertical-align: middle;\n",
       "    }\n",
       "\n",
       "    .dataframe tbody tr th {\n",
       "        vertical-align: top;\n",
       "    }\n",
       "\n",
       "    .dataframe thead th {\n",
       "        text-align: right;\n",
       "    }\n",
       "</style>\n",
       "<table border=\"1\" class=\"dataframe\">\n",
       "  <thead>\n",
       "    <tr style=\"text-align: right;\">\n",
       "      <th></th>\n",
       "      <th>Chassis_Roll_mean</th>\n",
       "      <th>Chassis_Roll_Rate_mean</th>\n",
       "      <th>Chassis_Pitch_mean</th>\n",
       "      <th>Chassis_Pitch_Rate_mean</th>\n",
       "      <th>Chassis_Vert_Accel_mean</th>\n",
       "      <th>Chassis_Long_Accel_mean</th>\n",
       "      <th>Chassis_Lat_Accel_mean</th>\n",
       "    </tr>\n",
       "  </thead>\n",
       "  <tbody>\n",
       "    <tr>\n",
       "      <th>0</th>\n",
       "      <td>2.284831</td>\n",
       "      <td>0.196373</td>\n",
       "      <td>1.515955</td>\n",
       "      <td>-0.480477</td>\n",
       "      <td>9.813797</td>\n",
       "      <td>0.153772</td>\n",
       "      <td>0.466084</td>\n",
       "    </tr>\n",
       "    <tr>\n",
       "      <th>1</th>\n",
       "      <td>-2.357010</td>\n",
       "      <td>0.252221</td>\n",
       "      <td>-0.655178</td>\n",
       "      <td>-0.576797</td>\n",
       "      <td>9.810353</td>\n",
       "      <td>0.107525</td>\n",
       "      <td>-0.366866</td>\n",
       "    </tr>\n",
       "    <tr>\n",
       "      <th>2</th>\n",
       "      <td>0.621063</td>\n",
       "      <td>0.282433</td>\n",
       "      <td>1.346402</td>\n",
       "      <td>-0.502552</td>\n",
       "      <td>9.824900</td>\n",
       "      <td>0.190726</td>\n",
       "      <td>0.249052</td>\n",
       "    </tr>\n",
       "    <tr>\n",
       "      <th>3</th>\n",
       "      <td>2.492119</td>\n",
       "      <td>0.227887</td>\n",
       "      <td>0.007240</td>\n",
       "      <td>-0.539620</td>\n",
       "      <td>9.807254</td>\n",
       "      <td>0.074085</td>\n",
       "      <td>0.420933</td>\n",
       "    </tr>\n",
       "    <tr>\n",
       "      <th>4</th>\n",
       "      <td>-2.860568</td>\n",
       "      <td>0.237381</td>\n",
       "      <td>1.472113</td>\n",
       "      <td>-0.559221</td>\n",
       "      <td>9.807675</td>\n",
       "      <td>0.170151</td>\n",
       "      <td>-0.312717</td>\n",
       "    </tr>\n",
       "  </tbody>\n",
       "</table>\n",
       "</div>"
      ],
      "text/plain": [
       "   Chassis_Roll_mean  Chassis_Roll_Rate_mean  Chassis_Pitch_mean  \\\n",
       "0           2.284831                0.196373            1.515955   \n",
       "1          -2.357010                0.252221           -0.655178   \n",
       "2           0.621063                0.282433            1.346402   \n",
       "3           2.492119                0.227887            0.007240   \n",
       "4          -2.860568                0.237381            1.472113   \n",
       "\n",
       "   Chassis_Pitch_Rate_mean  Chassis_Vert_Accel_mean  Chassis_Long_Accel_mean  \\\n",
       "0                -0.480477                 9.813797                 0.153772   \n",
       "1                -0.576797                 9.810353                 0.107525   \n",
       "2                -0.502552                 9.824900                 0.190726   \n",
       "3                -0.539620                 9.807254                 0.074085   \n",
       "4                -0.559221                 9.807675                 0.170151   \n",
       "\n",
       "   Chassis_Lat_Accel_mean  \n",
       "0                0.466084  \n",
       "1               -0.366866  \n",
       "2                0.249052  \n",
       "3                0.420933  \n",
       "4               -0.312717  "
      ]
     },
     "execution_count": 522,
     "metadata": {},
     "output_type": "execute_result"
    }
   ],
   "source": [
    "#separating the chassis feature data from the overall dataframe\n",
    "chassis_features_df = chassis_data_df.iloc[:,0:7]\n",
    "chassis_features_df.head()"
   ]
  },
  {
   "cell_type": "code",
   "execution_count": 523,
   "metadata": {},
   "outputs": [
    {
     "data": {
      "text/plain": [
       "0    166.753347\n",
       "1    194.506819\n",
       "2    211.174052\n",
       "3    192.257995\n",
       "4    192.557371\n",
       "Name: Boom_L2_R2_Average_std, dtype: float64"
      ]
     },
     "execution_count": 523,
     "metadata": {},
     "output_type": "execute_result"
    }
   ],
   "source": [
    "#separating the prediction data (L2/R2 average standard deviation) from the overall dataframe\n",
    "boom_std_df = chassis_data_df.iloc[:,9]\n",
    "boom_std_df.head()"
   ]
  },
  {
   "cell_type": "code",
   "execution_count": 524,
   "metadata": {},
   "outputs": [
    {
     "data": {
      "text/html": [
       "<div>\n",
       "<style scoped>\n",
       "    .dataframe tbody tr th:only-of-type {\n",
       "        vertical-align: middle;\n",
       "    }\n",
       "\n",
       "    .dataframe tbody tr th {\n",
       "        vertical-align: top;\n",
       "    }\n",
       "\n",
       "    .dataframe thead th {\n",
       "        text-align: right;\n",
       "    }\n",
       "</style>\n",
       "<table border=\"1\" class=\"dataframe\">\n",
       "  <thead>\n",
       "    <tr style=\"text-align: right;\">\n",
       "      <th></th>\n",
       "      <th>Chassis_Roll_mean</th>\n",
       "      <th>Chassis_Roll_Rate_mean</th>\n",
       "      <th>Chassis_Pitch_mean</th>\n",
       "      <th>Chassis_Pitch_Rate_mean</th>\n",
       "      <th>Chassis_Vert_Accel_mean</th>\n",
       "      <th>Chassis_Long_Accel_mean</th>\n",
       "      <th>Chassis_Lat_Accel_mean</th>\n",
       "    </tr>\n",
       "  </thead>\n",
       "  <tbody>\n",
       "    <tr>\n",
       "      <th>Chassis_Roll_mean</th>\n",
       "      <td>1.000000</td>\n",
       "      <td>-0.140797</td>\n",
       "      <td>-0.297325</td>\n",
       "      <td>0.098874</td>\n",
       "      <td>-0.087890</td>\n",
       "      <td>-0.506123</td>\n",
       "      <td>0.988183</td>\n",
       "    </tr>\n",
       "    <tr>\n",
       "      <th>Chassis_Roll_Rate_mean</th>\n",
       "      <td>-0.140797</td>\n",
       "      <td>1.000000</td>\n",
       "      <td>0.015552</td>\n",
       "      <td>-0.396220</td>\n",
       "      <td>-0.460490</td>\n",
       "      <td>0.011590</td>\n",
       "      <td>-0.147562</td>\n",
       "    </tr>\n",
       "    <tr>\n",
       "      <th>Chassis_Pitch_mean</th>\n",
       "      <td>-0.297325</td>\n",
       "      <td>0.015552</td>\n",
       "      <td>1.000000</td>\n",
       "      <td>0.519107</td>\n",
       "      <td>0.136100</td>\n",
       "      <td>0.898693</td>\n",
       "      <td>-0.268999</td>\n",
       "    </tr>\n",
       "    <tr>\n",
       "      <th>Chassis_Pitch_Rate_mean</th>\n",
       "      <td>0.098874</td>\n",
       "      <td>-0.396220</td>\n",
       "      <td>0.519107</td>\n",
       "      <td>1.000000</td>\n",
       "      <td>0.517093</td>\n",
       "      <td>0.506307</td>\n",
       "      <td>0.102526</td>\n",
       "    </tr>\n",
       "    <tr>\n",
       "      <th>Chassis_Vert_Accel_mean</th>\n",
       "      <td>-0.087890</td>\n",
       "      <td>-0.460490</td>\n",
       "      <td>0.136100</td>\n",
       "      <td>0.517093</td>\n",
       "      <td>1.000000</td>\n",
       "      <td>0.215740</td>\n",
       "      <td>-0.080646</td>\n",
       "    </tr>\n",
       "    <tr>\n",
       "      <th>Chassis_Long_Accel_mean</th>\n",
       "      <td>-0.506123</td>\n",
       "      <td>0.011590</td>\n",
       "      <td>0.898693</td>\n",
       "      <td>0.506307</td>\n",
       "      <td>0.215740</td>\n",
       "      <td>1.000000</td>\n",
       "      <td>-0.481118</td>\n",
       "    </tr>\n",
       "    <tr>\n",
       "      <th>Chassis_Lat_Accel_mean</th>\n",
       "      <td>0.988183</td>\n",
       "      <td>-0.147562</td>\n",
       "      <td>-0.268999</td>\n",
       "      <td>0.102526</td>\n",
       "      <td>-0.080646</td>\n",
       "      <td>-0.481118</td>\n",
       "      <td>1.000000</td>\n",
       "    </tr>\n",
       "  </tbody>\n",
       "</table>\n",
       "</div>"
      ],
      "text/plain": [
       "                         Chassis_Roll_mean  Chassis_Roll_Rate_mean  \\\n",
       "Chassis_Roll_mean                 1.000000               -0.140797   \n",
       "Chassis_Roll_Rate_mean           -0.140797                1.000000   \n",
       "Chassis_Pitch_mean               -0.297325                0.015552   \n",
       "Chassis_Pitch_Rate_mean           0.098874               -0.396220   \n",
       "Chassis_Vert_Accel_mean          -0.087890               -0.460490   \n",
       "Chassis_Long_Accel_mean          -0.506123                0.011590   \n",
       "Chassis_Lat_Accel_mean            0.988183               -0.147562   \n",
       "\n",
       "                         Chassis_Pitch_mean  Chassis_Pitch_Rate_mean  \\\n",
       "Chassis_Roll_mean                 -0.297325                 0.098874   \n",
       "Chassis_Roll_Rate_mean             0.015552                -0.396220   \n",
       "Chassis_Pitch_mean                 1.000000                 0.519107   \n",
       "Chassis_Pitch_Rate_mean            0.519107                 1.000000   \n",
       "Chassis_Vert_Accel_mean            0.136100                 0.517093   \n",
       "Chassis_Long_Accel_mean            0.898693                 0.506307   \n",
       "Chassis_Lat_Accel_mean            -0.268999                 0.102526   \n",
       "\n",
       "                         Chassis_Vert_Accel_mean  Chassis_Long_Accel_mean  \\\n",
       "Chassis_Roll_mean                      -0.087890                -0.506123   \n",
       "Chassis_Roll_Rate_mean                 -0.460490                 0.011590   \n",
       "Chassis_Pitch_mean                      0.136100                 0.898693   \n",
       "Chassis_Pitch_Rate_mean                 0.517093                 0.506307   \n",
       "Chassis_Vert_Accel_mean                 1.000000                 0.215740   \n",
       "Chassis_Long_Accel_mean                 0.215740                 1.000000   \n",
       "Chassis_Lat_Accel_mean                 -0.080646                -0.481118   \n",
       "\n",
       "                         Chassis_Lat_Accel_mean  \n",
       "Chassis_Roll_mean                      0.988183  \n",
       "Chassis_Roll_Rate_mean                -0.147562  \n",
       "Chassis_Pitch_mean                    -0.268999  \n",
       "Chassis_Pitch_Rate_mean                0.102526  \n",
       "Chassis_Vert_Accel_mean               -0.080646  \n",
       "Chassis_Long_Accel_mean               -0.481118  \n",
       "Chassis_Lat_Accel_mean                 1.000000  "
      ]
     },
     "execution_count": 524,
     "metadata": {},
     "output_type": "execute_result"
    }
   ],
   "source": [
    "#checking the correlation between the various features\n",
    "feature_corr = chassis_features_df.corr(method = \"pearson\")\n",
    "feature_corr"
   ]
  },
  {
   "cell_type": "code",
   "execution_count": 525,
   "metadata": {},
   "outputs": [
    {
     "data": {
      "text/plain": [
       "<matplotlib.axes._subplots.AxesSubplot at 0x26da2c30668>"
      ]
     },
     "execution_count": 525,
     "metadata": {},
     "output_type": "execute_result"
    },
    {
     "data": {
      "image/png": "[encoded data removed]",
      "text/plain": [
       "<Figure size 432x288 with 2 Axes>"
      ]
     },
     "metadata": {
      "needs_background": "light"
     },
     "output_type": "display_data"
    }
   ],
   "source": [
    "#produces a correlation heatmap for visual effect using the seaborn package within python\n",
    "import seaborn as sns\n",
    "sns.heatmap(feature_corr)"
   ]
  },
  {
   "cell_type": "markdown",
   "metadata": {},
   "source": [
    "As indicated by the correlation heatmap, the most highly correlated features are chassis lateral acceleration and chassis roll."
   ]
  },
  {
   "cell_type": "markdown",
   "metadata": {},
   "source": [
    "## Random Forest Machine Learning Algorithm"
   ]
  },
  {
   "cell_type": "code",
   "execution_count": 526,
   "metadata": {},
   "outputs": [],
   "source": [
    "from sklearn.model_selection import train_test_split"
   ]
  },
  {
   "cell_type": "code",
   "execution_count": 527,
   "metadata": {},
   "outputs": [],
   "source": [
    "#training the machine learning model with a specified test size and random state\n",
    "X_train, X_test, Y_train, Y_test = train_test_split(chassis_features_df, boom_std_df, test_size = 0.25, random_state = 0)"
   ]
  },
  {
   "cell_type": "code",
   "execution_count": 528,
   "metadata": {},
   "outputs": [
    {
     "name": "stdout",
     "output_type": "stream",
     "text": [
      "(31, 7) (31,)\n"
     ]
    }
   ],
   "source": [
    "print(X_train.shape, Y_train.shape)"
   ]
  },
  {
   "cell_type": "code",
   "execution_count": 529,
   "metadata": {},
   "outputs": [
    {
     "data": {
      "text/plain": [
       "RandomForestRegressor(bootstrap=True, criterion='mse', max_depth=None,\n",
       "                      max_features='auto', max_leaf_nodes=None,\n",
       "                      min_impurity_decrease=0.0, min_impurity_split=None,\n",
       "                      min_samples_leaf=1, min_samples_split=2,\n",
       "                      min_weight_fraction_leaf=0.0, n_estimators=1000,\n",
       "                      n_jobs=None, oob_score=False, random_state=0, verbose=0,\n",
       "                      warm_start=False)"
      ]
     },
     "execution_count": 529,
     "metadata": {},
     "output_type": "execute_result"
    }
   ],
   "source": [
    "reg = ske.RandomForestRegressor(n_estimators = 1000, random_state = 0)\n",
    "reg.fit(X_train, Y_train)"
   ]
  },
  {
   "cell_type": "code",
   "execution_count": 530,
   "metadata": {},
   "outputs": [
    {
     "data": {
      "text/plain": [
       "RandomForestRegressor(bootstrap=True, criterion='mse', max_depth=None,\n",
       "                      max_features='auto', max_leaf_nodes=None,\n",
       "                      min_impurity_decrease=0.0, min_impurity_split=None,\n",
       "                      min_samples_leaf=1, min_samples_split=2,\n",
       "                      min_weight_fraction_leaf=0.0, n_estimators=1000,\n",
       "                      n_jobs=None, oob_score=False, random_state=0, verbose=0,\n",
       "                      warm_start=False)"
      ]
     },
     "execution_count": 530,
     "metadata": {},
     "output_type": "execute_result"
    }
   ],
   "source": [
    "Y_train = np.ravel(Y_train)\n",
    "reg.fit(X_train, Y_train)"
   ]
  },
  {
   "cell_type": "code",
   "execution_count": 531,
   "metadata": {},
   "outputs": [],
   "source": [
    "Y_pred = reg.predict(X_test)"
   ]
  },
  {
   "cell_type": "code",
   "execution_count": 532,
   "metadata": {},
   "outputs": [],
   "source": [
    "from sklearn.metrics import explained_variance_score, max_error, mean_absolute_error, mean_squared_error, r2_score"
   ]
  },
  {
   "cell_type": "code",
   "execution_count": 533,
   "metadata": {},
   "outputs": [
    {
     "data": {
      "text/plain": [
       "0.4702770063002252"
      ]
     },
     "execution_count": 533,
     "metadata": {},
     "output_type": "execute_result"
    }
   ],
   "source": [
    "#explained variance regression score function (best possible score is 1.0, lower values are worse)\n",
    "explained_variance_score(Y_test, Y_pred)"
   ]
  },
  {
   "cell_type": "code",
   "execution_count": 534,
   "metadata": {},
   "outputs": [
    {
     "data": {
      "text/plain": [
       "98.97950204560036"
      ]
     },
     "execution_count": 534,
     "metadata": {},
     "output_type": "execute_result"
    }
   ],
   "source": [
    "#max_error calculates the maximum residual error\n",
    "max_error(Y_test, Y_pred)"
   ]
  },
  {
   "cell_type": "code",
   "execution_count": 535,
   "metadata": {},
   "outputs": [
    {
     "data": {
      "text/plain": [
       "array([0.04342778, 0.49609671, 0.08157301, 0.12375994, 0.11016348,\n",
       "       0.0819419 , 0.06303719])"
      ]
     },
     "execution_count": 535,
     "metadata": {},
     "output_type": "execute_result"
    }
   ],
   "source": [
    "#evaluates the importance of features on an artificial classification task\n",
    "reg.feature_importances_"
   ]
  },
  {
   "cell_type": "code",
   "execution_count": 536,
   "metadata": {},
   "outputs": [
    {
     "data": {
      "text/plain": [
       "array([1, 3, 4, 5, 2, 6, 0], dtype=int64)"
      ]
     },
     "execution_count": 536,
     "metadata": {},
     "output_type": "execute_result"
    }
   ],
   "source": [
    "#sorts the index of the features\n",
    "fet_ind = np.argsort(reg.feature_importances_)[::-1]\n",
    "fet_ind"
   ]
  },
  {
   "cell_type": "code",
   "execution_count": 537,
   "metadata": {},
   "outputs": [
    {
     "data": {
      "text/plain": [
       "array([0.49609671, 0.12375994, 0.11016348, 0.0819419 , 0.08157301,\n",
       "       0.06303719, 0.04342778])"
      ]
     },
     "execution_count": 537,
     "metadata": {},
     "output_type": "execute_result"
    }
   ],
   "source": [
    "#sorts the actual values of the features in ascending order\n",
    "fet_imp = reg.feature_importances_[np.argsort(reg.feature_importances_)][::-1]\n",
    "fet_imp"
   ]
  },
  {
   "cell_type": "code",
   "execution_count": 538,
   "metadata": {},
   "outputs": [
    {
     "data": {
      "text/plain": [
       "Index(['Chassis_Roll_Rate_mean', 'Chassis_Pitch_Rate_mean',\n",
       "       'Chassis_Vert_Accel_mean', 'Chassis_Long_Accel_mean',\n",
       "       'Chassis_Pitch_mean', 'Chassis_Lat_Accel_mean', 'Chassis_Roll_mean'],\n",
       "      dtype='object')"
      ]
     },
     "execution_count": 538,
     "metadata": {},
     "output_type": "execute_result"
    }
   ],
   "source": [
    "#labels the index of the features by their columns names\n",
    "chassis_features_df.columns[fet_ind]"
   ]
  },
  {
   "cell_type": "code",
   "execution_count": 539,
   "metadata": {},
   "outputs": [
    {
     "data": {
      "text/plain": [
       "Text(0.5, 1.0, 'Chassis Feature Importance')"
      ]
     },
     "execution_count": 539,
     "metadata": {},
     "output_type": "execute_result"
    },
    {
     "data": {
      "image/png": "[encoded data removed]",
      "text/plain": [
       "<Figure size 720x288 with 1 Axes>"
      ]
     },
     "metadata": {
      "needs_background": "light"
     },
     "output_type": "display_data"
    }
   ],
   "source": [
    "#creates a bar plot of feature importance\n",
    "fig, ax = plt.subplots(1, 1, figsize = (10,4))\n",
    "labels = chassis_features_df.columns[fet_ind]\n",
    "pd.Series(fet_imp, index = labels).plot('bar', ax=ax)\n",
    "ax.set_title('Chassis Feature Importance')"
   ]
  },
  {
   "cell_type": "code",
   "execution_count": 542,
   "metadata": {},
   "outputs": [
    {
     "data": {
      "text/plain": [
       "DecisionTreeRegressor(criterion='mse', max_depth=None, max_features='auto',\n",
       "                      max_leaf_nodes=None, min_impurity_decrease=0.0,\n",
       "                      min_impurity_split=None, min_samples_leaf=1,\n",
       "                      min_samples_split=2, min_weight_fraction_leaf=0.0,\n",
       "                      presort=False, random_state=209652396, splitter='best')"
      ]
     },
     "execution_count": 542,
     "metadata": {},
     "output_type": "execute_result"
    }
   ],
   "source": [
    "from sklearn import tree\n",
    "reg.estimators_[0]"
   ]
  },
  {
   "cell_type": "code",
   "execution_count": 547,
   "metadata": {},
   "outputs": [],
   "source": [
    "#generates an output microsoft word document of code that visualizes a random forest decision tree\n",
    "#this code can be copied over to http://www.webgraphviz.com/\n",
    "tree.export_graphviz(reg.estimators_[6], 'tree.dot', feature_names = chassis_features_df.columns, rounded=True, precision=1)"
   ]
  }
 ],
 "metadata": {
  "kernelspec": {
   "display_name": "Python 3",
   "language": "python",
   "name": "python3"
  },
  "language_info": {
   "codemirror_mode": {
    "name": "ipython",
    "version": 3
   },
   "file_extension": ".py",
   "mimetype": "text/x-python",
   "name": "python",
   "nbconvert_exporter": "python",
   "pygments_lexer": "ipython3",
   "version": "3.7.3"
  }
 },
 "nbformat": 4,
 "nbformat_minor": 2
}
