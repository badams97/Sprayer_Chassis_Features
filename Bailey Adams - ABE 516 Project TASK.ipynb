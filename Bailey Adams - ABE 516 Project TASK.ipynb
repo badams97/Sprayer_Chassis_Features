{
 "cells": [
  {
   "cell_type": "markdown",
   "metadata": {},
   "source": [
    "## Introduction\n",
    "\n",
    "The goal of this task is to determine the explained variance of an improved random forest model.  This new algorithm should contain a reduced amount of chassis suspension features based on the feature importance output from the original model."
   ]
  },
  {
   "cell_type": "code",
   "execution_count": 1,
   "metadata": {},
   "outputs": [],
   "source": [
    "#imports most of the necessary python packages for this data analysis\n",
    "import numpy as np\n",
    "import sklearn as sk\n",
    "import sklearn.datasets as skd\n",
    "import sklearn.ensemble as ske\n",
    "import matplotlib.pyplot as plt\n",
    "import pandas as pd\n",
    "%matplotlib inline"
   ]
  },
  {
   "cell_type": "markdown",
   "metadata": {},
   "source": [
    "## Data Wrangling\n",
    "\n",
    "The data needs to be organized into a panda's dataframe for visual clarity and easy utilization.  Each index represents an entire field pass of the same machine configuration.  The following key performance indicators are based on average values and are included in this initial overview dataframe:\n",
    "\n",
    "- Chassis roll\n",
    "- Chassis roll rate\n",
    "- Chassis pitch\n",
    "- Chassis pitch rate\n",
    "- Chassis vertical acceleration\n",
    "- Chassis longitudinal acceleration\n",
    "- Chassis lateral acceleration\n",
    "\n",
    "The model will be attempting to classify boom height performance.  The metric for boom height performance is contained within the dataframe as \"Boom_L2_R2_Average_std.\"\n",
    "\n",
    "- Boom_L2_R2_Average_std"
   ]
  },
  {
   "cell_type": "code",
   "execution_count": 6,
   "metadata": {},
   "outputs": [
    {
     "data": {
      "text/html": [
       "<div>\n",
       "<style scoped>\n",
       "    .dataframe tbody tr th:only-of-type {\n",
       "        vertical-align: middle;\n",
       "    }\n",
       "\n",
       "    .dataframe tbody tr th {\n",
       "        vertical-align: top;\n",
       "    }\n",
       "\n",
       "    .dataframe thead th {\n",
       "        text-align: right;\n",
       "    }\n",
       "</style>\n",
       "<table border=\"1\" class=\"dataframe\">\n",
       "  <thead>\n",
       "    <tr style=\"text-align: right;\">\n",
       "      <th></th>\n",
       "      <th>Chassis_Roll_mean</th>\n",
       "      <th>Chassis_Roll_Rate_mean</th>\n",
       "      <th>Chassis_Pitch_mean</th>\n",
       "      <th>Chassis_Pitch_Rate_mean</th>\n",
       "      <th>Chassis_Vert_Accel_mean</th>\n",
       "      <th>Chassis_Long_Accel_mean</th>\n",
       "      <th>Chassis_Lat_Accel_mean</th>\n",
       "      <th>Boom_L2_std</th>\n",
       "      <th>Boom_R2_std</th>\n",
       "      <th>Boom_L2_R2_Average_std</th>\n",
       "    </tr>\n",
       "  </thead>\n",
       "  <tbody>\n",
       "    <tr>\n",
       "      <th>0</th>\n",
       "      <td>2.284831</td>\n",
       "      <td>0.196373</td>\n",
       "      <td>1.515955</td>\n",
       "      <td>-0.480477</td>\n",
       "      <td>9.813797</td>\n",
       "      <td>0.153772</td>\n",
       "      <td>0.466084</td>\n",
       "      <td>168.179845</td>\n",
       "      <td>165.326849</td>\n",
       "      <td>166.753347</td>\n",
       "    </tr>\n",
       "    <tr>\n",
       "      <th>1</th>\n",
       "      <td>-2.357010</td>\n",
       "      <td>0.252221</td>\n",
       "      <td>-0.655178</td>\n",
       "      <td>-0.576797</td>\n",
       "      <td>9.810353</td>\n",
       "      <td>0.107525</td>\n",
       "      <td>-0.366866</td>\n",
       "      <td>173.627026</td>\n",
       "      <td>215.386613</td>\n",
       "      <td>194.506819</td>\n",
       "    </tr>\n",
       "    <tr>\n",
       "      <th>2</th>\n",
       "      <td>0.621063</td>\n",
       "      <td>0.282433</td>\n",
       "      <td>1.346402</td>\n",
       "      <td>-0.502552</td>\n",
       "      <td>9.824900</td>\n",
       "      <td>0.190726</td>\n",
       "      <td>0.249052</td>\n",
       "      <td>188.293229</td>\n",
       "      <td>234.054875</td>\n",
       "      <td>211.174052</td>\n",
       "    </tr>\n",
       "    <tr>\n",
       "      <th>3</th>\n",
       "      <td>2.492119</td>\n",
       "      <td>0.227887</td>\n",
       "      <td>0.007240</td>\n",
       "      <td>-0.539620</td>\n",
       "      <td>9.807254</td>\n",
       "      <td>0.074085</td>\n",
       "      <td>0.420933</td>\n",
       "      <td>176.257845</td>\n",
       "      <td>208.258146</td>\n",
       "      <td>192.257995</td>\n",
       "    </tr>\n",
       "    <tr>\n",
       "      <th>4</th>\n",
       "      <td>-2.860568</td>\n",
       "      <td>0.237381</td>\n",
       "      <td>1.472113</td>\n",
       "      <td>-0.559221</td>\n",
       "      <td>9.807675</td>\n",
       "      <td>0.170151</td>\n",
       "      <td>-0.312717</td>\n",
       "      <td>168.987986</td>\n",
       "      <td>216.126756</td>\n",
       "      <td>192.557371</td>\n",
       "    </tr>\n",
       "    <tr>\n",
       "      <th>5</th>\n",
       "      <td>3.440322</td>\n",
       "      <td>0.260563</td>\n",
       "      <td>-0.288552</td>\n",
       "      <td>-0.552804</td>\n",
       "      <td>9.805874</td>\n",
       "      <td>0.064734</td>\n",
       "      <td>0.518340</td>\n",
       "      <td>217.550777</td>\n",
       "      <td>195.837967</td>\n",
       "      <td>206.694372</td>\n",
       "    </tr>\n",
       "    <tr>\n",
       "      <th>6</th>\n",
       "      <td>1.689145</td>\n",
       "      <td>0.156441</td>\n",
       "      <td>1.430515</td>\n",
       "      <td>-0.478650</td>\n",
       "      <td>9.819644</td>\n",
       "      <td>0.132030</td>\n",
       "      <td>0.267781</td>\n",
       "      <td>200.433252</td>\n",
       "      <td>196.479785</td>\n",
       "      <td>198.456519</td>\n",
       "    </tr>\n",
       "    <tr>\n",
       "      <th>7</th>\n",
       "      <td>-1.927387</td>\n",
       "      <td>0.226862</td>\n",
       "      <td>0.619088</td>\n",
       "      <td>-0.502623</td>\n",
       "      <td>9.818433</td>\n",
       "      <td>0.204058</td>\n",
       "      <td>-0.171645</td>\n",
       "      <td>190.650008</td>\n",
       "      <td>210.137701</td>\n",
       "      <td>200.393854</td>\n",
       "    </tr>\n",
       "    <tr>\n",
       "      <th>8</th>\n",
       "      <td>2.189631</td>\n",
       "      <td>0.290175</td>\n",
       "      <td>0.894358</td>\n",
       "      <td>-0.456564</td>\n",
       "      <td>9.814669</td>\n",
       "      <td>0.112426</td>\n",
       "      <td>0.418233</td>\n",
       "      <td>293.422035</td>\n",
       "      <td>288.378679</td>\n",
       "      <td>290.900357</td>\n",
       "    </tr>\n",
       "    <tr>\n",
       "      <th>9</th>\n",
       "      <td>-0.462547</td>\n",
       "      <td>0.384812</td>\n",
       "      <td>0.150088</td>\n",
       "      <td>-0.590048</td>\n",
       "      <td>9.803622</td>\n",
       "      <td>0.117205</td>\n",
       "      <td>-0.034005</td>\n",
       "      <td>284.657096</td>\n",
       "      <td>278.674454</td>\n",
       "      <td>281.665775</td>\n",
       "    </tr>\n",
       "  </tbody>\n",
       "</table>\n",
       "</div>"
      ],
      "text/plain": [
       "   Chassis_Roll_mean  Chassis_Roll_Rate_mean  Chassis_Pitch_mean  \\\n",
       "0           2.284831                0.196373            1.515955   \n",
       "1          -2.357010                0.252221           -0.655178   \n",
       "2           0.621063                0.282433            1.346402   \n",
       "3           2.492119                0.227887            0.007240   \n",
       "4          -2.860568                0.237381            1.472113   \n",
       "5           3.440322                0.260563           -0.288552   \n",
       "6           1.689145                0.156441            1.430515   \n",
       "7          -1.927387                0.226862            0.619088   \n",
       "8           2.189631                0.290175            0.894358   \n",
       "9          -0.462547                0.384812            0.150088   \n",
       "\n",
       "   Chassis_Pitch_Rate_mean  Chassis_Vert_Accel_mean  Chassis_Long_Accel_mean  \\\n",
       "0                -0.480477                 9.813797                 0.153772   \n",
       "1                -0.576797                 9.810353                 0.107525   \n",
       "2                -0.502552                 9.824900                 0.190726   \n",
       "3                -0.539620                 9.807254                 0.074085   \n",
       "4                -0.559221                 9.807675                 0.170151   \n",
       "5                -0.552804                 9.805874                 0.064734   \n",
       "6                -0.478650                 9.819644                 0.132030   \n",
       "7                -0.502623                 9.818433                 0.204058   \n",
       "8                -0.456564                 9.814669                 0.112426   \n",
       "9                -0.590048                 9.803622                 0.117205   \n",
       "\n",
       "   Chassis_Lat_Accel_mean  Boom_L2_std  Boom_R2_std  Boom_L2_R2_Average_std  \n",
       "0                0.466084   168.179845   165.326849              166.753347  \n",
       "1               -0.366866   173.627026   215.386613              194.506819  \n",
       "2                0.249052   188.293229   234.054875              211.174052  \n",
       "3                0.420933   176.257845   208.258146              192.257995  \n",
       "4               -0.312717   168.987986   216.126756              192.557371  \n",
       "5                0.518340   217.550777   195.837967              206.694372  \n",
       "6                0.267781   200.433252   196.479785              198.456519  \n",
       "7               -0.171645   190.650008   210.137701              200.393854  \n",
       "8                0.418233   293.422035   288.378679              290.900357  \n",
       "9               -0.034005   284.657096   278.674454              281.665775  "
      ]
     },
     "execution_count": 6,
     "metadata": {},
     "output_type": "execute_result"
    }
   ],
   "source": [
    "#reads the data into a pandas dataframe and displays the first 10 rows\n",
    "#this dataset can be found on: https://github.com/badams97/Sprayer_Chassis_Features\n",
    "\n",
    "initial_df = pd.read_csv('Chassis_Features_Mean_1.csv')\n",
    "initial_df.head(10)"
   ]
  },
  {
   "cell_type": "markdown",
   "metadata": {},
   "source": [
    "## Data Reduction\n",
    "\n",
    "You should select data columns to eliminate based on their importance levels from the original model."
   ]
  },
  {
   "cell_type": "code",
   "execution_count": 7,
   "metadata": {},
   "outputs": [],
   "source": [
    "#filter the data and create a new dataframe that contains only important features and the classifier (i.e. \"Boom_L2_R2_Average_std\")\n",
    "\n"
   ]
  },
  {
   "cell_type": "code",
   "execution_count": 8,
   "metadata": {},
   "outputs": [],
   "source": [
    "#separate the features from the classifier into two separate dataframes\n",
    "\n"
   ]
  },
  {
   "cell_type": "markdown",
   "metadata": {},
   "source": [
    "## Initial Data Investigation\n",
    "\n",
    "You should perform a brief investigation on the data to extract information like: (1) dataframe shape, (2) spread of the data, (3) feature correlation"
   ]
  },
  {
   "cell_type": "code",
   "execution_count": null,
   "metadata": {},
   "outputs": [],
   "source": [
    "_______.shape"
   ]
  },
  {
   "cell_type": "code",
   "execution_count": null,
   "metadata": {},
   "outputs": [],
   "source": [
    "#validating that no null values are present in the data\n",
    "pd.isnull(_______).sum()"
   ]
  },
  {
   "cell_type": "code",
   "execution_count": null,
   "metadata": {},
   "outputs": [],
   "source": [
    "#quick investigation behind the spread of the data for each column in the overall dataframe\n",
    "________.describe()"
   ]
  },
  {
   "cell_type": "code",
   "execution_count": null,
   "metadata": {},
   "outputs": [],
   "source": [
    "#checking the correlation between the various features\n",
    "corr = ___________.corr(method = \"pearson\")\n",
    "corr"
   ]
  },
  {
   "cell_type": "code",
   "execution_count": 9,
   "metadata": {},
   "outputs": [],
   "source": [
    "#produce a correlation heatmap for easy visualization using the seaborn package\n",
    "import seaborn as sns\n",
    "\n"
   ]
  },
  {
   "cell_type": "markdown",
   "metadata": {},
   "source": [
    "## Updated Random Forest Model\n",
    "\n",
    "By removing misleading data and noise, the new model should hopefully result in an increased explained variance.  A lesser amount of features also reduces the training time."
   ]
  },
  {
   "cell_type": "code",
   "execution_count": 10,
   "metadata": {},
   "outputs": [],
   "source": [
    "from sklearn.model_selection import train_test_split"
   ]
  },
  {
   "cell_type": "code",
   "execution_count": null,
   "metadata": {},
   "outputs": [],
   "source": [
    "#training the machine learning model with a specified test size and random state\n",
    "X_train, X_test, Y_train, Y_test = train_test_split(________, _________, test_size = ____, random_state = 0)"
   ]
  },
  {
   "cell_type": "code",
   "execution_count": null,
   "metadata": {},
   "outputs": [],
   "source": [
    "print(X_train.shape, Y_train.shape)"
   ]
  },
  {
   "cell_type": "code",
   "execution_count": null,
   "metadata": {},
   "outputs": [],
   "source": [
    "reg = ske.RandomForestRegressor(n_estimators = ______, random_state = 0)\n",
    "reg.fit(X_train, Y_train)"
   ]
  },
  {
   "cell_type": "code",
   "execution_count": null,
   "metadata": {},
   "outputs": [],
   "source": [
    "Y_train = np.ravel(Y_train)\n",
    "reg.fit(X_train, Y_train)"
   ]
  },
  {
   "cell_type": "code",
   "execution_count": null,
   "metadata": {},
   "outputs": [],
   "source": [
    "Y_pred = reg.predict(X_test)"
   ]
  },
  {
   "cell_type": "code",
   "execution_count": null,
   "metadata": {},
   "outputs": [],
   "source": [
    "##explained variance score"
   ]
  }
 ],
 "metadata": {
  "kernelspec": {
   "display_name": "Python 3",
   "language": "python",
   "name": "python3"
  },
  "language_info": {
   "codemirror_mode": {
    "name": "ipython",
    "version": 3
   },
   "file_extension": ".py",
   "mimetype": "text/x-python",
   "name": "python",
   "nbconvert_exporter": "python",
   "pygments_lexer": "ipython3",
   "version": "3.7.3"
  }
 },
 "nbformat": 4,
 "nbformat_minor": 2
}
